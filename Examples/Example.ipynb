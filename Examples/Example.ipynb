{
 "cells": [
  {
   "cell_type": "markdown",
   "metadata": {},
   "source": [
    "Import project source code and plotting function."
   ]
  },
  {
   "cell_type": "code",
   "execution_count": 5,
   "metadata": {},
   "outputs": [],
   "source": [
    "from APOExptime import Sky, Target, Instrument, Observation\n",
    "import matplotlib.pyplot as plt"
   ]
  },
  {
   "cell_type": "markdown",
   "metadata": {},
   "source": [
    "Create sky object. Lunar phase can go from 0 (New moon) to 1 (Full moon). Seeing is in arcseconds."
   ]
  },
  {
   "cell_type": "code",
   "execution_count": 6,
   "metadata": {},
   "outputs": [],
   "source": [
    "sky = Sky(lunar_phase=0, seeing=1)"
   ]
  },
  {
   "cell_type": "markdown",
   "metadata": {},
   "source": [
    "Create Target Object. First entry is the target's magnitude, second entry is a string that specifies the magnitude system of the input magnitude, third entry is the band pass for entered magnitude (Entered example is the V bandpass), and the last entry is the black-body temprature of the target. Default value is solar temprature."
   ]
  },
  {
   "cell_type": "code",
   "execution_count": 16,
   "metadata": {},
   "outputs": [],
   "source": [
    "star = Target(15, 'VEGAMAG', [4700, 6900], temp=6000)"
   ]
  },
  {
   "cell_type": "markdown",
   "metadata": {},
   "source": [
    "Create Instrument object. Can choose between 5 instruments (Case Sensitive):  Arctic, Arces, DIS, TripleSpec, and NICFPS."
   ]
  },
  {
   "cell_type": "code",
   "execution_count": 22,
   "metadata": {},
   "outputs": [],
   "source": [
    "inst = Instrument('DIS')"
   ]
  },
  {
   "cell_type": "markdown",
   "metadata": {},
   "source": [
    "Create an observation given a star, sky, and instrument."
   ]
  },
  {
   "cell_type": "code",
   "execution_count": 23,
   "metadata": {},
   "outputs": [],
   "source": [
    "ob = Observation(star, sky, inst)"
   ]
  },
  {
   "cell_type": "markdown",
   "metadata": {},
   "source": [
    "SNfromTime() takes an input exposure time in seconds and both outputs and saves an array with S/N values.\n",
    "TimefromSN() takes an input S/N and both outputs and saves an array with required exposure times."
   ]
  },
  {
   "cell_type": "code",
   "execution_count": 24,
   "metadata": {},
   "outputs": [],
   "source": [
    "sn1 = ob.SNfromTime(200) #value in seconds\n",
    "\n",
    "t1 = ob.TimefromSN(50) #value in S/N ratio"
   ]
  },
  {
   "cell_type": "markdown",
   "metadata": {},
   "source": [
    "Takes observation object and wanted plots ('SN' for plotting SN per filter or wavelenth and 'Time' for plotting time per filter/wavelength) and creates the desired plots (works... kinda. Still needs more work to make nice)."
   ]
  },
  {
   "cell_type": "code",
   "execution_count": 11,
   "metadata": {},
   "outputs": [
    {
     "name": "stdout",
     "output_type": "stream",
     "text": [
      "[[array([ 8062,  8063,  8064, ..., 24943, 24944, 24945]), array([0.00211182, 0.00211063, 0.00210176, ..., 0.03474736, 0.01615762,\n",
      "       0.00169489]), 'TripleSpec_default_effic']]\n"
     ]
    }
   ],
   "source": [
    "print(sn1)"
   ]
  },
  {
   "cell_type": "markdown",
   "metadata": {},
   "source": [
    "Plot S/N vs wavelength"
   ]
  },
  {
   "cell_type": "code",
   "execution_count": 27,
   "metadata": {},
   "outputs": [
    {
     "data": {
      "text/plain": [
       "[<matplotlib.lines.Line2D at 0x2d13bdb3e80>]"
      ]
     },
     "execution_count": 27,
     "metadata": {},
     "output_type": "execute_result"
    },
    {
     "data": {
      "image/png": "[encoded data removed]",
      "text/plain": [
       "<Figure size 432x288 with 1 Axes>"
      ]
     },
     "metadata": {
      "needs_background": "light"
     },
     "output_type": "display_data"
    }
   ],
   "source": [
    "plt.plot(sn1[0][0], sn1[0][1])"
   ]
  },
  {
   "cell_type": "markdown",
   "metadata": {},
   "source": [
    "Plot needed exposure time vs wavelength"
   ]
  },
  {
   "cell_type": "code",
   "execution_count": 28,
   "metadata": {},
   "outputs": [
    {
     "data": {
      "text/plain": [
       "(0, 2000)"
      ]
     },
     "execution_count": 28,
     "metadata": {},
     "output_type": "execute_result"
    },
    {
     "data": {
      "image/png": "[encoded data removed]",
      "text/plain": [
       "<Figure size 432x288 with 1 Axes>"
      ]
     },
     "metadata": {
      "needs_background": "light"
     },
     "output_type": "display_data"
    }
   ],
   "source": [
    "plt.plot(t1[0][0], t1[0][1])\n",
    "plt.ylim((0, 2000))"
   ]
  },
  {
   "cell_type": "markdown",
   "metadata": {},
   "source": [
    "Lets use a new instrument now, in this case an imager called Arctic"
   ]
  },
  {
   "cell_type": "code",
   "execution_count": 29,
   "metadata": {},
   "outputs": [],
   "source": [
    "inst2 = Instrument('Arctic')"
   ]
  },
  {
   "cell_type": "markdown",
   "metadata": {},
   "source": [
    "Now lets make an observation with this new instrument on the same target as before.\n",
    "We can use the same sky and star objects made before"
   ]
  },
  {
   "cell_type": "code",
   "execution_count": 30,
   "metadata": {},
   "outputs": [],
   "source": [
    "ob2 = Observation(star, sky, inst2)"
   ]
  },
  {
   "cell_type": "markdown",
   "metadata": {},
   "source": [
    "We'll calcuate the S/N and exposure time using the same values as before, but now the output will be diffrent"
   ]
  },
  {
   "cell_type": "code",
   "execution_count": 31,
   "metadata": {},
   "outputs": [],
   "source": [
    "sn2 = ob.SNfromTime(200) #value in seconds\n",
    "\n",
    "t2 = ob.TimefromSN(50) #value in S/N ratio"
   ]
  },
  {
   "cell_type": "code",
   "execution_count": 32,
   "metadata": {},
   "outputs": [
    {
     "name": "stdout",
     "output_type": "stream",
     "text": [
      "[[array([3012, 3013, 3014, ..., 9972, 9973, 9974]), array([ 2.18900957,  2.25637496,  2.31136042, ..., 18.06567455,\n",
      "       18.0556347 , 17.97714701]), 'DIS_B1200_effic'], [array([2400, 2401, 2402, ..., 9959, 9960, 9961]), array([1.53865613e-02, 9.36324755e-03, 3.42917753e-03, ...,\n",
      "       1.42548297e+01, 1.80787043e+01, 1.67364593e+01]), 'DIS_B400_effic'], [array([3487, 3488, 3489, ..., 9947, 9948, 9949]), array([ 3.38752814,  3.43868572,  3.48236464, ..., 31.04086337,\n",
      "       23.7993586 , 28.06514902]), 'DIS_R300_effic'], [array([4437, 4438, 4439, ..., 9972, 9973, 9974]), array([14.13216097, 14.19356835, 14.25705574, ..., 33.17993779,\n",
      "       33.13886213, 32.96876528]), 'DIS_R830_effic'], [array([3037, 3038, 3039, ..., 9897, 9898, 9899]), array([-4.68980061, -4.81367579, -4.8483906 , ..., 27.62539136,\n",
      "       34.19251998, 32.28527206]), 'DIS_R1200_effic']]\n",
      "[[array([3012, 3013, 3014, ..., 9972, 9973, 9974]), array([46523.26349764, 44741.25902248, 43366.90278788, ...,\n",
      "        1481.72391551,  1483.36620956,  1496.59387328]), 'DIS_B1200_effic'], [array([2400, 2401, 2402, ..., 9959, 9960, 9961]), array([1.51420631e+07, 2.49173514e+07, 6.81288725e+07, ...,\n",
      "       2.43460536e+03, 1.50498245e+03, 1.75965627e+03]), 'DIS_B400_effic'], [array([3487, 3488, 3489, ..., 9947, 9948, 9949]), array([34843.6421366 , 33981.0808688 , 33323.70773817, ...,\n",
      "         517.67309355,   881.17053479,   633.38819843]), 'DIS_R300_effic'], [array([4437, 4438, 4439, ..., 9972, 9973, 9974]), array([2398.97562501, 2379.17144346, 2358.93498915, ...,  451.9390145 ,\n",
      "        453.05281926,  457.73300074]), 'DIS_R830_effic'], [array([3037, 3038, 3039, ..., 9897, 9898, 9899]), array([288.97344104, 285.44996244, 284.49983251, ..., 650.71288024,\n",
      "       424.2723398 , 475.91951031]), 'DIS_R1200_effic']]\n"
     ]
    }
   ],
   "source": [
    "print(sn2)\n",
    "print(t2)"
   ]
  },
  {
   "cell_type": "markdown",
   "metadata": {},
   "source": [
    "Now each index is a filter in the imager"
   ]
  }
 ],
 "metadata": {
  "kernelspec": {
   "display_name": "Python 3",
   "language": "python",
   "name": "python3"
  },
  "language_info": {
   "codemirror_mode": {
    "name": "ipython",
    "version": 3
   },
   "file_extension": ".py",
   "mimetype": "text/x-python",
   "name": "python",
   "nbconvert_exporter": "python",
   "pygments_lexer": "ipython3",
   "version": "3.7.3"
  }
 },
 "nbformat": 4,
 "nbformat_minor": 2
}
